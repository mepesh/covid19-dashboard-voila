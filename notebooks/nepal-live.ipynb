{
 "cells": [
  {
   "cell_type": "code",
   "execution_count": 31,
   "metadata": {},
   "outputs": [],
   "source": [
    "import folium, json\n",
    "import pandas as pd\n",
    "import numpy as np\n",
    "from folium import plugins\n",
    "from folium.plugins import Search\n",
    "import folium.features \n",
    "import plotly.express as px\n",
    "import plotly.graph_objects as go\n",
    "import vincent\n",
    "from ipywidgets import AppLayout, Button, Layout"
   ]
  },
  {
   "cell_type": "code",
   "execution_count": 32,
   "metadata": {},
   "outputs": [
    {
     "data": {
      "text/html": [
       "<style>.container { width:100% !important; }</style>"
      ],
      "text/plain": [
       "<IPython.core.display.HTML object>"
      ]
     },
     "metadata": {},
     "output_type": "display_data"
    }
   ],
   "source": [
    "from IPython.core.display import display, HTML\n",
    "display(HTML(\"<style>.container { width:100% !important; }</style>\"))"
   ]
  },
  {
   "cell_type": "code",
   "execution_count": 33,
   "metadata": {},
   "outputs": [],
   "source": [
    "import requests\n",
    "def death_nepal():\n",
    "    url = \"https://nepalcorona.info/api/v1/data/nepal\"\n",
    "    response = requests.get(url)\n",
    "    todos = json.loads(response.text)\n",
    "    return todos"
   ]
  },
  {
   "cell_type": "code",
   "execution_count": 34,
   "metadata": {
    "scrolled": true
   },
   "outputs": [
    {
     "data": {
      "text/html": [
       "<div style=\"width: 50%;display: block;margin-bottom: 20px;\"><div style=\"float: left;width: 50%;padding: 0 10px;\"><div style=\"box-shadow: 0 4px 8px 0 rgba(0, 0, 0, 0.2);padding: 16px;text-align: center;background-color: #f1f1f1;\"><h3>\"+total_positive+\"</h3><p>Total Positive</p></div></div><div style=\"float: left;width: 50%;padding: 0 10px;\"><div style=\"box-shadow: 0 4px 8px 0 rgba(0, 0, 0, 0.2);padding: 16px;text-align: center;background-color: #f1f1f1;\" ><h3>\"+tested_total+\"</h3><p>Total Tested</p></div></div></div>"
      ],
      "text/plain": [
       "<IPython.core.display.HTML object>"
      ]
     },
     "metadata": {},
     "output_type": "display_data"
    }
   ],
   "source": [
    "tested_positive = \"16\"\n",
    "tested_total=\"625\"\n",
    "in_isolation=\"12\"\n",
    "pending_result=\"35\"\n",
    "recovered=\"1\"\n",
    "deaths=\"0\"\n",
    "updated_at=\"Now date\"\n",
    "\n",
    "\n",
    "\n",
    "# display(HTML('<div style=\"float: left;width: 20%;padding: 0 10px;><div style=\"float: left;width: 25%;padding: 0 10px;\"><divstyle=\"box-shadow: 0 4px 8px 0 rgba(0, 0, 0, 0.2); padding: 16px; text-align: center; background-color: #f1f1f1;\"><h3>'+tested_positive+'</h3><p>Tested Positive</p><p>Some text</p></div></div><div style=\"float: left;width: 25%;padding: 0 10px;\"><div><h3>Card 1</h3><p>Some text</p><p>Some text</p></div></div></div>'))\n",
    "display(HTML('<div style=\"width: 50%;display: block;margin-bottom: 20px;\"><div style=\"float: left;width: 50%;padding: 0 10px;\"><div style=\"box-shadow: 0 4px 8px 0 rgba(0, 0, 0, 0.2);padding: 16px;text-align: center;background-color: #f1f1f1;\"><h3>\"+total_positive+\"</h3><p>Total Positive</p></div></div><div style=\"float: left;width: 50%;padding: 0 10px;\"><div style=\"box-shadow: 0 4px 8px 0 rgba(0, 0, 0, 0.2);padding: 16px;text-align: center;background-color: #f1f1f1;\" ><h3>\"+tested_total+\"</h3><p>Total Tested</p></div></div></div>'))\n",
    "\n",
    "#          <div style=\"float: left;width: 25%;padding: 0 10px;\">\n",
    "\n",
    "#     <div style=\"box-shadow: 0 4px 8px 0 rgba(0, 0, 0, 0.2);\n",
    "#   padding: 16px;\n",
    "#   text-align: center;\n",
    "#   background-color: #f1f1f1;\">\n",
    "#       <h3>\"+recovered+\"</h3>\n",
    "#       <p>Recovered</p>\n",
    "#     </div>\n",
    "#   </div>\n",
    "#   <div style=\"float: left;width: 25%;padding: 0 10px;\">\n",
    "#     <div style=\"box-shadow: 0 4px 8px 0 rgba(0, 0, 0, 0.2);\n",
    "#   padding: 16px;\n",
    "#   text-align: center;\n",
    "#   background-color: #f1f1f1;\">\n",
    "#       <h3>\"+deaths+\"</h3>\n",
    "#       <p>Deaths</p>\n",
    "#     </div>\n",
    "#   </div>\n",
    "#   <div style=\"float: left;width: 25%;padding: 0 10px;\">\n",
    "#     <div style=\"box-shadow: 0 4px 8px 0 rgba(0, 0, 0, 0.2);\n",
    "#   padding: 16px;\n",
    "#   text-align: center;\n",
    "#   background-color: #f1f1f1;\">\n",
    "#       <h3>\"+in_isolation+\"</h3>\n",
    "#       <p>Isolation</p>\n",
    "#     </div>\n",
    "#   </div> \n",
    "             \n",
    "data=death_nepal()\n",
    "# print(data)\n"
   ]
  },
  {
   "cell_type": "code",
   "execution_count": 30,
   "metadata": {},
   "outputs": [
    {
     "name": "stdout",
     "output_type": "stream",
     "text": [
      "apple is green\n"
     ]
    }
   ],
   "source": [
    "with open('nepal-districts-new.geojson') as f:\n",
    "    nepal_districts_geo=json.load(f)\n",
    "    \n",
    "for i in nepal_districts_geo['features']:\n",
    "    i['id']=i['properties']['DIST_EN']\n",
    "\n",
    "cases_plot_data=pd.read_csv('test_data_cases.csv')\n",
    "\n",
    "#nepal-dash-search\n",
    "md = folium.Map(location=[28.277433,83.581612], tiles=\"CartoDB positron\",zoom_start=7, max_zoom=32, min_zoom=7, width='100%', height='100%')\n",
    "plugins.ScrollZoomToggler().add_to(md)\n",
    "\n",
    "stategeo=folium.GeoJson(\n",
    "    nepal_districts_geo,\n",
    "    name='districts'\n",
    ").add_to(md)\n",
    "\n",
    "folium.Choropleth(geo_data=nepal_districts_geo, data=cases_plot_data,\n",
    "                      name=\"Corona Virus Cases By District\",\n",
    "             columns=['district', 'cases'],\n",
    "             key_on='feature.id',\n",
    "             fill_color='YlGnBu', fill_opacity=0.3, line_opacity=0.9,\n",
    "                  nan_fill_color='yellow',nan_fill_opacity=0.3,\n",
    "                      hightlight=False,\n",
    "            \n",
    "             legend_name='Covid 19 Cases by District').add_to(md)\n",
    "\n",
    "for i in range(len(cases_plot_data)):\n",
    "    district=cases_plot_data.iloc[i]['district']\n",
    "    folium.Marker([cases_plot_data.iloc[i]['long'], cases_plot_data.iloc[i]['lat']],\n",
    "                  tooltip=''+district.upper()+' Click for Details',\n",
    "                  popup='Corona_Virus_Stats \\n District '+district+'\\n Total_Cases: '+str(cases_plot_data.iloc[i]['cases'])+\"\\n Recovered: \"+str(cases_plot_data.iloc[i]['recovered'])+\"\\n Total_Deaths: \"+str(cases_plot_data.iloc[i]['death'])+\"\\n Isolation: \"+str(cases_plot_data.iloc[i]['isolation'])\n",
    "                 ).add_to(md)\n",
    "\n",
    "statesearch = plugins.Search(position='topright',\n",
    "    layer=stategeo,\n",
    "    geom_type='Polygon',\n",
    "    placeholder='Search for a District',\n",
    "    collapsed=False,\n",
    "    search_label='DIST_EN',\n",
    "    weight=6\n",
    ").add_to(md)\n",
    "\n",
    "folium.LayerControl().add_to(md)\n",
    "md\n",
    "# md.save('nepal-live.html')"
   ]
  },
  {
   "cell_type": "code",
   "execution_count": null,
   "metadata": {},
   "outputs": [],
   "source": []
  }
 ],
 "metadata": {
  "kernelspec": {
   "display_name": "Python 3",
   "language": "python",
   "name": "python3"
  },
  "language_info": {
   "codemirror_mode": {
    "name": "ipython",
    "version": 3
   },
   "file_extension": ".py",
   "mimetype": "text/x-python",
   "name": "python",
   "nbconvert_exporter": "python",
   "pygments_lexer": "ipython3",
   "version": "3.7.4"
  }
 },
 "nbformat": 4,
 "nbformat_minor": 2
}
