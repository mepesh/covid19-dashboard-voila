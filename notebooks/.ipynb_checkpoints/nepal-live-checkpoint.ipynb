{
 "cells": [
  {
   "cell_type": "code",
   "execution_count": 3,
   "metadata": {},
   "outputs": [],
   "source": [
    "import folium, json\n",
    "import pandas as pd\n",
    "import numpy as np\n",
    "from folium import plugins\n",
    "from folium.plugins import Search\n",
    "import folium.features \n",
    "import plotly.express as px\n",
    "import plotly.graph_objects as go\n",
    "import vincent"
   ]
  },
  {
   "cell_type": "code",
   "execution_count": 4,
   "metadata": {},
   "outputs": [],
   "source": [
    "with open('nepal-districts-new.geojson') as f:\n",
    "    nepal_districts_geo=json.load(f)\n",
    "    \n",
    "for i in nepal_districts_geo['features']:\n",
    "    i['id']=i['properties']['DIST_EN']\n",
    "\n",
    "cases_plot_data=pd.read_csv('test_data_cases.csv')\n",
    "\n",
    "#nepal-dash-search\n",
    "md = folium.Map(location=[28.277433,83.581612], tiles=\"CartoDB positron\",zoom_start=7, max_zoom=32, min_zoom=7,width='100%', height='100%')\n",
    "plugins.ScrollZoomToggler().add_to(md)\n",
    "\n",
    "stategeo=folium.GeoJson(\n",
    "    nepal_districts_geo,\n",
    "    name='districts'\n",
    ").add_to(md)\n",
    "\n",
    "folium.Choropleth(geo_data=nepal_districts_geo, data=cases_plot_data,\n",
    "                      name=\"Corona Virus Cases By District\",\n",
    "             columns=['district', 'cases'],\n",
    "             key_on='feature.id',\n",
    "             fill_color='YlGnBu', fill_opacity=0.3, line_opacity=0.9,\n",
    "                  nan_fill_color='yellow',nan_fill_opacity=0.3,\n",
    "                      hightlight=False,\n",
    "            \n",
    "             legend_name='Covid 19 Cases by District').add_to(md)\n",
    "\n",
    "for i in range(len(cases_plot_data)):\n",
    "    district=cases_plot_data.iloc[i]['district']\n",
    "    folium.Marker([cases_plot_data.iloc[i]['long'], cases_plot_data.iloc[i]['lat']],\n",
    "                  tooltip=''+district.upper()+' Click for Details',\n",
    "                  popup='Corona_Virus_Stats \\n District '+district+'\\n Total_Cases: '+str(cases_plot_data.iloc[i]['cases'])+\"\\n Recovered: \"+str(cases_plot_data.iloc[i]['recovered'])+\"\\n Total_Deaths: \"+str(cases_plot_data.iloc[i]['death'])+\"\\n Isolation: \"+str(cases_plot_data.iloc[i]['isolation'])\n",
    "                 ).add_to(md)\n",
    "\n",
    "statesearch = plugins.Search(position='topright',\n",
    "    layer=stategeo,\n",
    "    geom_type='Polygon',\n",
    "    placeholder='Search for a District',\n",
    "    collapsed=False,\n",
    "    search_label='DIST_EN',\n",
    "    weight=6\n",
    ").add_to(md)\n",
    "\n",
    "folium.LayerControl().add_to(md)\n",
    "md\n",
    "# md.save('nepal-live.html')"
   ]
  },
  {
   "cell_type": "code",
   "execution_count": null,
   "metadata": {},
   "outputs": [],
   "source": []
  }
 ],
 "metadata": {
  "kernelspec": {
   "display_name": "Python 3",
   "language": "python",
   "name": "python3"
  },
  "language_info": {
   "codemirror_mode": {
    "name": "ipython",
    "version": 3
   },
   "file_extension": ".py",
   "mimetype": "text/x-python",
   "name": "python",
   "nbconvert_exporter": "python",
   "pygments_lexer": "ipython3",
   "version": "3.7.4"
  }
 },
 "nbformat": 4,
 "nbformat_minor": 2
}
